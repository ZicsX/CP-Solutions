{
  "nbformat": 4,
  "nbformat_minor": 0,
  "metadata": {
    "colab": {
      "provenance": [],
      "gpuType": "T4",
      "authorship_tag": "ABX9TyPULkG27LDOSVEOQzyw4tZO",
      "include_colab_link": true
    },
    "kernelspec": {
      "name": "python3",
      "display_name": "Python 3"
    },
    "language_info": {
      "name": "python"
    },
    "accelerator": "GPU",
    "widgets": {
      "application/vnd.jupyter.widget-state+json": {
        "1a3659a5f07e4acb9dc179fe1272b16c": {
          "model_module": "@jupyter-widgets/controls",
          "model_name": "HBoxModel",
          "model_module_version": "1.5.0",
          "state": {
            "_dom_classes": [],
            "_model_module": "@jupyter-widgets/controls",
            "_model_module_version": "1.5.0",
            "_model_name": "HBoxModel",
            "_view_count": null,
            "_view_module": "@jupyter-widgets/controls",
            "_view_module_version": "1.5.0",
            "_view_name": "HBoxView",
            "box_style": "",
            "children": [
              "IPY_MODEL_a3a95c8f46064e83861dd43de4eca0aa",
              "IPY_MODEL_ae23701714b643acb7129628176a8a6f",
              "IPY_MODEL_320f46f2983243ecbca5f56e6e34fd2a"
            ],
            "layout": "IPY_MODEL_cb32acc16b8f4802bfc28b5f951e13ca"
          }
        },
        "a3a95c8f46064e83861dd43de4eca0aa": {
          "model_module": "@jupyter-widgets/controls",
          "model_name": "HTMLModel",
          "model_module_version": "1.5.0",
          "state": {
            "_dom_classes": [],
            "_model_module": "@jupyter-widgets/controls",
            "_model_module_version": "1.5.0",
            "_model_name": "HTMLModel",
            "_view_count": null,
            "_view_module": "@jupyter-widgets/controls",
            "_view_module_version": "1.5.0",
            "_view_name": "HTMLView",
            "description": "",
            "description_tooltip": null,
            "layout": "IPY_MODEL_69aacc94d3da454884f3322d72e38f3d",
            "placeholder": "​",
            "style": "IPY_MODEL_ab75ccd16227449a8f2dc8c166a11c53",
            "value": "Downloading readme: 100%"
          }
        },
        "ae23701714b643acb7129628176a8a6f": {
          "model_module": "@jupyter-widgets/controls",
          "model_name": "FloatProgressModel",
          "model_module_version": "1.5.0",
          "state": {
            "_dom_classes": [],
            "_model_module": "@jupyter-widgets/controls",
            "_model_module_version": "1.5.0",
            "_model_name": "FloatProgressModel",
            "_view_count": null,
            "_view_module": "@jupyter-widgets/controls",
            "_view_module_version": "1.5.0",
            "_view_name": "ProgressView",
            "bar_style": "success",
            "description": "",
            "description_tooltip": null,
            "layout": "IPY_MODEL_218bf56e9930447e974a7e9fa3286204",
            "max": 4559,
            "min": 0,
            "orientation": "horizontal",
            "style": "IPY_MODEL_2ae86717409843e9b6c1b7511a75d3c7",
            "value": 4559
          }
        },
        "320f46f2983243ecbca5f56e6e34fd2a": {
          "model_module": "@jupyter-widgets/controls",
          "model_name": "HTMLModel",
          "model_module_version": "1.5.0",
          "state": {
            "_dom_classes": [],
            "_model_module": "@jupyter-widgets/controls",
            "_model_module_version": "1.5.0",
            "_model_name": "HTMLModel",
            "_view_count": null,
            "_view_module": "@jupyter-widgets/controls",
            "_view_module_version": "1.5.0",
            "_view_name": "HTMLView",
            "description": "",
            "description_tooltip": null,
            "layout": "IPY_MODEL_35c6817ead384d9baf91dd629495a3b9",
            "placeholder": "​",
            "style": "IPY_MODEL_4c4acc609e6e4735a1be485cdb072c0a",
            "value": " 4.56k/4.56k [00:00&lt;00:00, 252kB/s]"
          }
        },
        "cb32acc16b8f4802bfc28b5f951e13ca": {
          "model_module": "@jupyter-widgets/base",
          "model_name": "LayoutModel",
          "model_module_version": "1.2.0",
          "state": {
            "_model_module": "@jupyter-widgets/base",
            "_model_module_version": "1.2.0",
            "_model_name": "LayoutModel",
            "_view_count": null,
            "_view_module": "@jupyter-widgets/base",
            "_view_module_version": "1.2.0",
            "_view_name": "LayoutView",
            "align_content": null,
            "align_items": null,
            "align_self": null,
            "border": null,
            "bottom": null,
            "display": null,
            "flex": null,
            "flex_flow": null,
            "grid_area": null,
            "grid_auto_columns": null,
            "grid_auto_flow": null,
            "grid_auto_rows": null,
            "grid_column": null,
            "grid_gap": null,
            "grid_row": null,
            "grid_template_areas": null,
            "grid_template_columns": null,
            "grid_template_rows": null,
            "height": null,
            "justify_content": null,
            "justify_items": null,
            "left": null,
            "margin": null,
            "max_height": null,
            "max_width": null,
            "min_height": null,
            "min_width": null,
            "object_fit": null,
            "object_position": null,
            "order": null,
            "overflow": null,
            "overflow_x": null,
            "overflow_y": null,
            "padding": null,
            "right": null,
            "top": null,
            "visibility": null,
            "width": null
          }
        },
        "69aacc94d3da454884f3322d72e38f3d": {
          "model_module": "@jupyter-widgets/base",
          "model_name": "LayoutModel",
          "model_module_version": "1.2.0",
          "state": {
            "_model_module": "@jupyter-widgets/base",
            "_model_module_version": "1.2.0",
            "_model_name": "LayoutModel",
            "_view_count": null,
            "_view_module": "@jupyter-widgets/base",
            "_view_module_version": "1.2.0",
            "_view_name": "LayoutView",
            "align_content": null,
            "align_items": null,
            "align_self": null,
            "border": null,
            "bottom": null,
            "display": null,
            "flex": null,
            "flex_flow": null,
            "grid_area": null,
            "grid_auto_columns": null,
            "grid_auto_flow": null,
            "grid_auto_rows": null,
            "grid_column": null,
            "grid_gap": null,
            "grid_row": null,
            "grid_template_areas": null,
            "grid_template_columns": null,
            "grid_template_rows": null,
            "height": null,
            "justify_content": null,
            "justify_items": null,
            "left": null,
            "margin": null,
            "max_height": null,
            "max_width": null,
            "min_height": null,
            "min_width": null,
            "object_fit": null,
            "object_position": null,
            "order": null,
            "overflow": null,
            "overflow_x": null,
            "overflow_y": null,
            "padding": null,
            "right": null,
            "top": null,
            "visibility": null,
            "width": null
          }
        },
        "ab75ccd16227449a8f2dc8c166a11c53": {
          "model_module": "@jupyter-widgets/controls",
          "model_name": "DescriptionStyleModel",
          "model_module_version": "1.5.0",
          "state": {
            "_model_module": "@jupyter-widgets/controls",
            "_model_module_version": "1.5.0",
            "_model_name": "DescriptionStyleModel",
            "_view_count": null,
            "_view_module": "@jupyter-widgets/base",
            "_view_module_version": "1.2.0",
            "_view_name": "StyleView",
            "description_width": ""
          }
        },
        "218bf56e9930447e974a7e9fa3286204": {
          "model_module": "@jupyter-widgets/base",
          "model_name": "LayoutModel",
          "model_module_version": "1.2.0",
          "state": {
            "_model_module": "@jupyter-widgets/base",
            "_model_module_version": "1.2.0",
            "_model_name": "LayoutModel",
            "_view_count": null,
            "_view_module": "@jupyter-widgets/base",
            "_view_module_version": "1.2.0",
            "_view_name": "LayoutView",
            "align_content": null,
            "align_items": null,
            "align_self": null,
            "border": null,
            "bottom": null,
            "display": null,
            "flex": null,
            "flex_flow": null,
            "grid_area": null,
            "grid_auto_columns": null,
            "grid_auto_flow": null,
            "grid_auto_rows": null,
            "grid_column": null,
            "grid_gap": null,
            "grid_row": null,
            "grid_template_areas": null,
            "grid_template_columns": null,
            "grid_template_rows": null,
            "height": null,
            "justify_content": null,
            "justify_items": null,
            "left": null,
            "margin": null,
            "max_height": null,
            "max_width": null,
            "min_height": null,
            "min_width": null,
            "object_fit": null,
            "object_position": null,
            "order": null,
            "overflow": null,
            "overflow_x": null,
            "overflow_y": null,
            "padding": null,
            "right": null,
            "top": null,
            "visibility": null,
            "width": null
          }
        },
        "2ae86717409843e9b6c1b7511a75d3c7": {
          "model_module": "@jupyter-widgets/controls",
          "model_name": "ProgressStyleModel",
          "model_module_version": "1.5.0",
          "state": {
            "_model_module": "@jupyter-widgets/controls",
            "_model_module_version": "1.5.0",
            "_model_name": "ProgressStyleModel",
            "_view_count": null,
            "_view_module": "@jupyter-widgets/base",
            "_view_module_version": "1.2.0",
            "_view_name": "StyleView",
            "bar_color": null,
            "description_width": ""
          }
        },
        "35c6817ead384d9baf91dd629495a3b9": {
          "model_module": "@jupyter-widgets/base",
          "model_name": "LayoutModel",
          "model_module_version": "1.2.0",
          "state": {
            "_model_module": "@jupyter-widgets/base",
            "_model_module_version": "1.2.0",
            "_model_name": "LayoutModel",
            "_view_count": null,
            "_view_module": "@jupyter-widgets/base",
            "_view_module_version": "1.2.0",
            "_view_name": "LayoutView",
            "align_content": null,
            "align_items": null,
            "align_self": null,
            "border": null,
            "bottom": null,
            "display": null,
            "flex": null,
            "flex_flow": null,
            "grid_area": null,
            "grid_auto_columns": null,
            "grid_auto_flow": null,
            "grid_auto_rows": null,
            "grid_column": null,
            "grid_gap": null,
            "grid_row": null,
            "grid_template_areas": null,
            "grid_template_columns": null,
            "grid_template_rows": null,
            "height": null,
            "justify_content": null,
            "justify_items": null,
            "left": null,
            "margin": null,
            "max_height": null,
            "max_width": null,
            "min_height": null,
            "min_width": null,
            "object_fit": null,
            "object_position": null,
            "order": null,
            "overflow": null,
            "overflow_x": null,
            "overflow_y": null,
            "padding": null,
            "right": null,
            "top": null,
            "visibility": null,
            "width": null
          }
        },
        "4c4acc609e6e4735a1be485cdb072c0a": {
          "model_module": "@jupyter-widgets/controls",
          "model_name": "DescriptionStyleModel",
          "model_module_version": "1.5.0",
          "state": {
            "_model_module": "@jupyter-widgets/controls",
            "_model_module_version": "1.5.0",
            "_model_name": "DescriptionStyleModel",
            "_view_count": null,
            "_view_module": "@jupyter-widgets/base",
            "_view_module_version": "1.2.0",
            "_view_name": "StyleView",
            "description_width": ""
          }
        },
        "537e2eab90d349408566cff935b997b0": {
          "model_module": "@jupyter-widgets/controls",
          "model_name": "HBoxModel",
          "model_module_version": "1.5.0",
          "state": {
            "_dom_classes": [],
            "_model_module": "@jupyter-widgets/controls",
            "_model_module_version": "1.5.0",
            "_model_name": "HBoxModel",
            "_view_count": null,
            "_view_module": "@jupyter-widgets/controls",
            "_view_module_version": "1.5.0",
            "_view_name": "HBoxView",
            "box_style": "",
            "children": [
              "IPY_MODEL_49c9c5cd5edf47698fac37c33479134f",
              "IPY_MODEL_f2e29db0101b44a996cab54362aaefe7",
              "IPY_MODEL_71e51078725943b4b37841c84415fb2e"
            ],
            "layout": "IPY_MODEL_2972f3c7812a405db72091535ec6161b"
          }
        },
        "49c9c5cd5edf47698fac37c33479134f": {
          "model_module": "@jupyter-widgets/controls",
          "model_name": "HTMLModel",
          "model_module_version": "1.5.0",
          "state": {
            "_dom_classes": [],
            "_model_module": "@jupyter-widgets/controls",
            "_model_module_version": "1.5.0",
            "_model_name": "HTMLModel",
            "_view_count": null,
            "_view_module": "@jupyter-widgets/controls",
            "_view_module_version": "1.5.0",
            "_view_name": "HTMLView",
            "description": "",
            "description_tooltip": null,
            "layout": "IPY_MODEL_7a722b229a60470ea78df89c485f369c",
            "placeholder": "​",
            "style": "IPY_MODEL_015c789038d540868ee4c28b9dfe3af8",
            "value": "Downloading readme: 100%"
          }
        },
        "f2e29db0101b44a996cab54362aaefe7": {
          "model_module": "@jupyter-widgets/controls",
          "model_name": "FloatProgressModel",
          "model_module_version": "1.5.0",
          "state": {
            "_dom_classes": [],
            "_model_module": "@jupyter-widgets/controls",
            "_model_module_version": "1.5.0",
            "_model_name": "FloatProgressModel",
            "_view_count": null,
            "_view_module": "@jupyter-widgets/controls",
            "_view_module_version": "1.5.0",
            "_view_name": "ProgressView",
            "bar_style": "success",
            "description": "",
            "description_tooltip": null,
            "layout": "IPY_MODEL_4b9ff851e2e043c1816554cde4561e3a",
            "max": 301,
            "min": 0,
            "orientation": "horizontal",
            "style": "IPY_MODEL_d6c40d87378646138663f1e4fd836c96",
            "value": 301
          }
        },
        "71e51078725943b4b37841c84415fb2e": {
          "model_module": "@jupyter-widgets/controls",
          "model_name": "HTMLModel",
          "model_module_version": "1.5.0",
          "state": {
            "_dom_classes": [],
            "_model_module": "@jupyter-widgets/controls",
            "_model_module_version": "1.5.0",
            "_model_name": "HTMLModel",
            "_view_count": null,
            "_view_module": "@jupyter-widgets/controls",
            "_view_module_version": "1.5.0",
            "_view_name": "HTMLView",
            "description": "",
            "description_tooltip": null,
            "layout": "IPY_MODEL_dd71decc3e1b488697accfda7c6b85a9",
            "placeholder": "​",
            "style": "IPY_MODEL_dd65173bd32341e6ad2fb5b26d4a4605",
            "value": " 301/301 [00:00&lt;00:00, 8.28kB/s]"
          }
        },
        "2972f3c7812a405db72091535ec6161b": {
          "model_module": "@jupyter-widgets/base",
          "model_name": "LayoutModel",
          "model_module_version": "1.2.0",
          "state": {
            "_model_module": "@jupyter-widgets/base",
            "_model_module_version": "1.2.0",
            "_model_name": "LayoutModel",
            "_view_count": null,
            "_view_module": "@jupyter-widgets/base",
            "_view_module_version": "1.2.0",
            "_view_name": "LayoutView",
            "align_content": null,
            "align_items": null,
            "align_self": null,
            "border": null,
            "bottom": null,
            "display": null,
            "flex": null,
            "flex_flow": null,
            "grid_area": null,
            "grid_auto_columns": null,
            "grid_auto_flow": null,
            "grid_auto_rows": null,
            "grid_column": null,
            "grid_gap": null,
            "grid_row": null,
            "grid_template_areas": null,
            "grid_template_columns": null,
            "grid_template_rows": null,
            "height": null,
            "justify_content": null,
            "justify_items": null,
            "left": null,
            "margin": null,
            "max_height": null,
            "max_width": null,
            "min_height": null,
            "min_width": null,
            "object_fit": null,
            "object_position": null,
            "order": null,
            "overflow": null,
            "overflow_x": null,
            "overflow_y": null,
            "padding": null,
            "right": null,
            "top": null,
            "visibility": null,
            "width": null
          }
        },
        "7a722b229a60470ea78df89c485f369c": {
          "model_module": "@jupyter-widgets/base",
          "model_name": "LayoutModel",
          "model_module_version": "1.2.0",
          "state": {
            "_model_module": "@jupyter-widgets/base",
            "_model_module_version": "1.2.0",
            "_model_name": "LayoutModel",
            "_view_count": null,
            "_view_module": "@jupyter-widgets/base",
            "_view_module_version": "1.2.0",
            "_view_name": "LayoutView",
            "align_content": null,
            "align_items": null,
            "align_self": null,
            "border": null,
            "bottom": null,
            "display": null,
            "flex": null,
            "flex_flow": null,
            "grid_area": null,
            "grid_auto_columns": null,
            "grid_auto_flow": null,
            "grid_auto_rows": null,
            "grid_column": null,
            "grid_gap": null,
            "grid_row": null,
            "grid_template_areas": null,
            "grid_template_columns": null,
            "grid_template_rows": null,
            "height": null,
            "justify_content": null,
            "justify_items": null,
            "left": null,
            "margin": null,
            "max_height": null,
            "max_width": null,
            "min_height": null,
            "min_width": null,
            "object_fit": null,
            "object_position": null,
            "order": null,
            "overflow": null,
            "overflow_x": null,
            "overflow_y": null,
            "padding": null,
            "right": null,
            "top": null,
            "visibility": null,
            "width": null
          }
        },
        "015c789038d540868ee4c28b9dfe3af8": {
          "model_module": "@jupyter-widgets/controls",
          "model_name": "DescriptionStyleModel",
          "model_module_version": "1.5.0",
          "state": {
            "_model_module": "@jupyter-widgets/controls",
            "_model_module_version": "1.5.0",
            "_model_name": "DescriptionStyleModel",
            "_view_count": null,
            "_view_module": "@jupyter-widgets/base",
            "_view_module_version": "1.2.0",
            "_view_name": "StyleView",
            "description_width": ""
          }
        },
        "4b9ff851e2e043c1816554cde4561e3a": {
          "model_module": "@jupyter-widgets/base",
          "model_name": "LayoutModel",
          "model_module_version": "1.2.0",
          "state": {
            "_model_module": "@jupyter-widgets/base",
            "_model_module_version": "1.2.0",
            "_model_name": "LayoutModel",
            "_view_count": null,
            "_view_module": "@jupyter-widgets/base",
            "_view_module_version": "1.2.0",
            "_view_name": "LayoutView",
            "align_content": null,
            "align_items": null,
            "align_self": null,
            "border": null,
            "bottom": null,
            "display": null,
            "flex": null,
            "flex_flow": null,
            "grid_area": null,
            "grid_auto_columns": null,
            "grid_auto_flow": null,
            "grid_auto_rows": null,
            "grid_column": null,
            "grid_gap": null,
            "grid_row": null,
            "grid_template_areas": null,
            "grid_template_columns": null,
            "grid_template_rows": null,
            "height": null,
            "justify_content": null,
            "justify_items": null,
            "left": null,
            "margin": null,
            "max_height": null,
            "max_width": null,
            "min_height": null,
            "min_width": null,
            "object_fit": null,
            "object_position": null,
            "order": null,
            "overflow": null,
            "overflow_x": null,
            "overflow_y": null,
            "padding": null,
            "right": null,
            "top": null,
            "visibility": null,
            "width": null
          }
        },
        "d6c40d87378646138663f1e4fd836c96": {
          "model_module": "@jupyter-widgets/controls",
          "model_name": "ProgressStyleModel",
          "model_module_version": "1.5.0",
          "state": {
            "_model_module": "@jupyter-widgets/controls",
            "_model_module_version": "1.5.0",
            "_model_name": "ProgressStyleModel",
            "_view_count": null,
            "_view_module": "@jupyter-widgets/base",
            "_view_module_version": "1.2.0",
            "_view_name": "StyleView",
            "bar_color": null,
            "description_width": ""
          }
        },
        "dd71decc3e1b488697accfda7c6b85a9": {
          "model_module": "@jupyter-widgets/base",
          "model_name": "LayoutModel",
          "model_module_version": "1.2.0",
          "state": {
            "_model_module": "@jupyter-widgets/base",
            "_model_module_version": "1.2.0",
            "_model_name": "LayoutModel",
            "_view_count": null,
            "_view_module": "@jupyter-widgets/base",
            "_view_module_version": "1.2.0",
            "_view_name": "LayoutView",
            "align_content": null,
            "align_items": null,
            "align_self": null,
            "border": null,
            "bottom": null,
            "display": null,
            "flex": null,
            "flex_flow": null,
            "grid_area": null,
            "grid_auto_columns": null,
            "grid_auto_flow": null,
            "grid_auto_rows": null,
            "grid_column": null,
            "grid_gap": null,
            "grid_row": null,
            "grid_template_areas": null,
            "grid_template_columns": null,
            "grid_template_rows": null,
            "height": null,
            "justify_content": null,
            "justify_items": null,
            "left": null,
            "margin": null,
            "max_height": null,
            "max_width": null,
            "min_height": null,
            "min_width": null,
            "object_fit": null,
            "object_position": null,
            "order": null,
            "overflow": null,
            "overflow_x": null,
            "overflow_y": null,
            "padding": null,
            "right": null,
            "top": null,
            "visibility": null,
            "width": null
          }
        },
        "dd65173bd32341e6ad2fb5b26d4a4605": {
          "model_module": "@jupyter-widgets/controls",
          "model_name": "DescriptionStyleModel",
          "model_module_version": "1.5.0",
          "state": {
            "_model_module": "@jupyter-widgets/controls",
            "_model_module_version": "1.5.0",
            "_model_name": "DescriptionStyleModel",
            "_view_count": null,
            "_view_module": "@jupyter-widgets/base",
            "_view_module_version": "1.2.0",
            "_view_name": "StyleView",
            "description_width": ""
          }
        },
        "fa008d81fb0344eea4f1bcb12333b031": {
          "model_module": "@jupyter-widgets/controls",
          "model_name": "HBoxModel",
          "model_module_version": "1.5.0",
          "state": {
            "_dom_classes": [],
            "_model_module": "@jupyter-widgets/controls",
            "_model_module_version": "1.5.0",
            "_model_name": "HBoxModel",
            "_view_count": null,
            "_view_module": "@jupyter-widgets/controls",
            "_view_module_version": "1.5.0",
            "_view_name": "HBoxView",
            "box_style": "",
            "children": [
              "IPY_MODEL_f29089531ddc45e49ecce6cc0b05d217",
              "IPY_MODEL_be17b907e026435e996f6ef269a54c9f",
              "IPY_MODEL_ff0f3bf77ce14eadb4981f7f1950c5ac"
            ],
            "layout": "IPY_MODEL_567622e641364323ba4c88143f16ecec"
          }
        },
        "f29089531ddc45e49ecce6cc0b05d217": {
          "model_module": "@jupyter-widgets/controls",
          "model_name": "HTMLModel",
          "model_module_version": "1.5.0",
          "state": {
            "_dom_classes": [],
            "_model_module": "@jupyter-widgets/controls",
            "_model_module_version": "1.5.0",
            "_model_name": "HTMLModel",
            "_view_count": null,
            "_view_module": "@jupyter-widgets/controls",
            "_view_module_version": "1.5.0",
            "_view_name": "HTMLView",
            "description": "",
            "description_tooltip": null,
            "layout": "IPY_MODEL_d8baf792f5d748eaa32b732bcc82c474",
            "placeholder": "​",
            "style": "IPY_MODEL_f8b663a716de45d4be8a9d91c9f24d17",
            "value": "Resolving data files: 100%"
          }
        },
        "be17b907e026435e996f6ef269a54c9f": {
          "model_module": "@jupyter-widgets/controls",
          "model_name": "FloatProgressModel",
          "model_module_version": "1.5.0",
          "state": {
            "_dom_classes": [],
            "_model_module": "@jupyter-widgets/controls",
            "_model_module_version": "1.5.0",
            "_model_name": "FloatProgressModel",
            "_view_count": null,
            "_view_module": "@jupyter-widgets/controls",
            "_view_module_version": "1.5.0",
            "_view_name": "ProgressView",
            "bar_style": "success",
            "description": "",
            "description_tooltip": null,
            "layout": "IPY_MODEL_352a61014aca46e4a853eef0c921db37",
            "max": 30,
            "min": 0,
            "orientation": "horizontal",
            "style": "IPY_MODEL_c06b8c01ad09495383320f76fac7e023",
            "value": 30
          }
        },
        "ff0f3bf77ce14eadb4981f7f1950c5ac": {
          "model_module": "@jupyter-widgets/controls",
          "model_name": "HTMLModel",
          "model_module_version": "1.5.0",
          "state": {
            "_dom_classes": [],
            "_model_module": "@jupyter-widgets/controls",
            "_model_module_version": "1.5.0",
            "_model_name": "HTMLModel",
            "_view_count": null,
            "_view_module": "@jupyter-widgets/controls",
            "_view_module_version": "1.5.0",
            "_view_name": "HTMLView",
            "description": "",
            "description_tooltip": null,
            "layout": "IPY_MODEL_e1ca68a329e54e20b61210ef2f18ab43",
            "placeholder": "​",
            "style": "IPY_MODEL_6dd98da998644b01be93631116ac460f",
            "value": " 30/30 [00:02&lt;00:00,  2.48s/it]"
          }
        },
        "567622e641364323ba4c88143f16ecec": {
          "model_module": "@jupyter-widgets/base",
          "model_name": "LayoutModel",
          "model_module_version": "1.2.0",
          "state": {
            "_model_module": "@jupyter-widgets/base",
            "_model_module_version": "1.2.0",
            "_model_name": "LayoutModel",
            "_view_count": null,
            "_view_module": "@jupyter-widgets/base",
            "_view_module_version": "1.2.0",
            "_view_name": "LayoutView",
            "align_content": null,
            "align_items": null,
            "align_self": null,
            "border": null,
            "bottom": null,
            "display": null,
            "flex": null,
            "flex_flow": null,
            "grid_area": null,
            "grid_auto_columns": null,
            "grid_auto_flow": null,
            "grid_auto_rows": null,
            "grid_column": null,
            "grid_gap": null,
            "grid_row": null,
            "grid_template_areas": null,
            "grid_template_columns": null,
            "grid_template_rows": null,
            "height": null,
            "justify_content": null,
            "justify_items": null,
            "left": null,
            "margin": null,
            "max_height": null,
            "max_width": null,
            "min_height": null,
            "min_width": null,
            "object_fit": null,
            "object_position": null,
            "order": null,
            "overflow": null,
            "overflow_x": null,
            "overflow_y": null,
            "padding": null,
            "right": null,
            "top": null,
            "visibility": null,
            "width": null
          }
        },
        "d8baf792f5d748eaa32b732bcc82c474": {
          "model_module": "@jupyter-widgets/base",
          "model_name": "LayoutModel",
          "model_module_version": "1.2.0",
          "state": {
            "_model_module": "@jupyter-widgets/base",
            "_model_module_version": "1.2.0",
            "_model_name": "LayoutModel",
            "_view_count": null,
            "_view_module": "@jupyter-widgets/base",
            "_view_module_version": "1.2.0",
            "_view_name": "LayoutView",
            "align_content": null,
            "align_items": null,
            "align_self": null,
            "border": null,
            "bottom": null,
            "display": null,
            "flex": null,
            "flex_flow": null,
            "grid_area": null,
            "grid_auto_columns": null,
            "grid_auto_flow": null,
            "grid_auto_rows": null,
            "grid_column": null,
            "grid_gap": null,
            "grid_row": null,
            "grid_template_areas": null,
            "grid_template_columns": null,
            "grid_template_rows": null,
            "height": null,
            "justify_content": null,
            "justify_items": null,
            "left": null,
            "margin": null,
            "max_height": null,
            "max_width": null,
            "min_height": null,
            "min_width": null,
            "object_fit": null,
            "object_position": null,
            "order": null,
            "overflow": null,
            "overflow_x": null,
            "overflow_y": null,
            "padding": null,
            "right": null,
            "top": null,
            "visibility": null,
            "width": null
          }
        },
        "f8b663a716de45d4be8a9d91c9f24d17": {
          "model_module": "@jupyter-widgets/controls",
          "model_name": "DescriptionStyleModel",
          "model_module_version": "1.5.0",
          "state": {
            "_model_module": "@jupyter-widgets/controls",
            "_model_module_version": "1.5.0",
            "_model_name": "DescriptionStyleModel",
            "_view_count": null,
            "_view_module": "@jupyter-widgets/base",
            "_view_module_version": "1.2.0",
            "_view_name": "StyleView",
            "description_width": ""
          }
        },
        "352a61014aca46e4a853eef0c921db37": {
          "model_module": "@jupyter-widgets/base",
          "model_name": "LayoutModel",
          "model_module_version": "1.2.0",
          "state": {
            "_model_module": "@jupyter-widgets/base",
            "_model_module_version": "1.2.0",
            "_model_name": "LayoutModel",
            "_view_count": null,
            "_view_module": "@jupyter-widgets/base",
            "_view_module_version": "1.2.0",
            "_view_name": "LayoutView",
            "align_content": null,
            "align_items": null,
            "align_self": null,
            "border": null,
            "bottom": null,
            "display": null,
            "flex": null,
            "flex_flow": null,
            "grid_area": null,
            "grid_auto_columns": null,
            "grid_auto_flow": null,
            "grid_auto_rows": null,
            "grid_column": null,
            "grid_gap": null,
            "grid_row": null,
            "grid_template_areas": null,
            "grid_template_columns": null,
            "grid_template_rows": null,
            "height": null,
            "justify_content": null,
            "justify_items": null,
            "left": null,
            "margin": null,
            "max_height": null,
            "max_width": null,
            "min_height": null,
            "min_width": null,
            "object_fit": null,
            "object_position": null,
            "order": null,
            "overflow": null,
            "overflow_x": null,
            "overflow_y": null,
            "padding": null,
            "right": null,
            "top": null,
            "visibility": null,
            "width": null
          }
        },
        "c06b8c01ad09495383320f76fac7e023": {
          "model_module": "@jupyter-widgets/controls",
          "model_name": "ProgressStyleModel",
          "model_module_version": "1.5.0",
          "state": {
            "_model_module": "@jupyter-widgets/controls",
            "_model_module_version": "1.5.0",
            "_model_name": "ProgressStyleModel",
            "_view_count": null,
            "_view_module": "@jupyter-widgets/base",
            "_view_module_version": "1.2.0",
            "_view_name": "StyleView",
            "bar_color": null,
            "description_width": ""
          }
        },
        "e1ca68a329e54e20b61210ef2f18ab43": {
          "model_module": "@jupyter-widgets/base",
          "model_name": "LayoutModel",
          "model_module_version": "1.2.0",
          "state": {
            "_model_module": "@jupyter-widgets/base",
            "_model_module_version": "1.2.0",
            "_model_name": "LayoutModel",
            "_view_count": null,
            "_view_module": "@jupyter-widgets/base",
            "_view_module_version": "1.2.0",
            "_view_name": "LayoutView",
            "align_content": null,
            "align_items": null,
            "align_self": null,
            "border": null,
            "bottom": null,
            "display": null,
            "flex": null,
            "flex_flow": null,
            "grid_area": null,
            "grid_auto_columns": null,
            "grid_auto_flow": null,
            "grid_auto_rows": null,
            "grid_column": null,
            "grid_gap": null,
            "grid_row": null,
            "grid_template_areas": null,
            "grid_template_columns": null,
            "grid_template_rows": null,
            "height": null,
            "justify_content": null,
            "justify_items": null,
            "left": null,
            "margin": null,
            "max_height": null,
            "max_width": null,
            "min_height": null,
            "min_width": null,
            "object_fit": null,
            "object_position": null,
            "order": null,
            "overflow": null,
            "overflow_x": null,
            "overflow_y": null,
            "padding": null,
            "right": null,
            "top": null,
            "visibility": null,
            "width": null
          }
        },
        "6dd98da998644b01be93631116ac460f": {
          "model_module": "@jupyter-widgets/controls",
          "model_name": "DescriptionStyleModel",
          "model_module_version": "1.5.0",
          "state": {
            "_model_module": "@jupyter-widgets/controls",
            "_model_module_version": "1.5.0",
            "_model_name": "DescriptionStyleModel",
            "_view_count": null,
            "_view_module": "@jupyter-widgets/base",
            "_view_module_version": "1.2.0",
            "_view_name": "StyleView",
            "description_width": ""
          }
        },
        "86dc7a8753e74980bd4af58cf7e63899": {
          "model_module": "@jupyter-widgets/controls",
          "model_name": "HBoxModel",
          "model_module_version": "1.5.0",
          "state": {
            "_dom_classes": [],
            "_model_module": "@jupyter-widgets/controls",
            "_model_module_version": "1.5.0",
            "_model_name": "HBoxModel",
            "_view_count": null,
            "_view_module": "@jupyter-widgets/controls",
            "_view_module_version": "1.5.0",
            "_view_name": "HBoxView",
            "box_style": "",
            "children": [
              "IPY_MODEL_599d0e1ce99e4abf88f5a46698fbae77",
              "IPY_MODEL_eb464163d2944c368f1fcf8a1be8416e",
              "IPY_MODEL_aa8d7aab03824481a31d7433086599ae"
            ],
            "layout": "IPY_MODEL_14c03080fd084cc4ba13235246a7bd23"
          }
        },
        "599d0e1ce99e4abf88f5a46698fbae77": {
          "model_module": "@jupyter-widgets/controls",
          "model_name": "HTMLModel",
          "model_module_version": "1.5.0",
          "state": {
            "_dom_classes": [],
            "_model_module": "@jupyter-widgets/controls",
            "_model_module_version": "1.5.0",
            "_model_name": "HTMLModel",
            "_view_count": null,
            "_view_module": "@jupyter-widgets/controls",
            "_view_module_version": "1.5.0",
            "_view_name": "HTMLView",
            "description": "",
            "description_tooltip": null,
            "layout": "IPY_MODEL_bb978613b8c2433cb27844a0d9295058",
            "placeholder": "​",
            "style": "IPY_MODEL_76b00f02cd29409286371216c66ff4c8",
            "value": "Creating parquet from Arrow format: 100%"
          }
        },
        "eb464163d2944c368f1fcf8a1be8416e": {
          "model_module": "@jupyter-widgets/controls",
          "model_name": "FloatProgressModel",
          "model_module_version": "1.5.0",
          "state": {
            "_dom_classes": [],
            "_model_module": "@jupyter-widgets/controls",
            "_model_module_version": "1.5.0",
            "_model_name": "FloatProgressModel",
            "_view_count": null,
            "_view_module": "@jupyter-widgets/controls",
            "_view_module_version": "1.5.0",
            "_view_name": "ProgressView",
            "bar_style": "success",
            "description": "",
            "description_tooltip": null,
            "layout": "IPY_MODEL_e034305a9acd41df988ebddc99f46068",
            "max": 901,
            "min": 0,
            "orientation": "horizontal",
            "style": "IPY_MODEL_aa381b1c7ce442e29126e95299850a39",
            "value": 901
          }
        },
        "aa8d7aab03824481a31d7433086599ae": {
          "model_module": "@jupyter-widgets/controls",
          "model_name": "HTMLModel",
          "model_module_version": "1.5.0",
          "state": {
            "_dom_classes": [],
            "_model_module": "@jupyter-widgets/controls",
            "_model_module_version": "1.5.0",
            "_model_name": "HTMLModel",
            "_view_count": null,
            "_view_module": "@jupyter-widgets/controls",
            "_view_module_version": "1.5.0",
            "_view_name": "HTMLView",
            "description": "",
            "description_tooltip": null,
            "layout": "IPY_MODEL_2ae6616535144b4b816da37b1e91f5d3",
            "placeholder": "​",
            "style": "IPY_MODEL_40dba2e3c12f43c7bb0b9cf3dda1ead6",
            "value": " 901/901 [00:11&lt;00:00, 101.24ba/s]"
          }
        },
        "14c03080fd084cc4ba13235246a7bd23": {
          "model_module": "@jupyter-widgets/base",
          "model_name": "LayoutModel",
          "model_module_version": "1.2.0",
          "state": {
            "_model_module": "@jupyter-widgets/base",
            "_model_module_version": "1.2.0",
            "_model_name": "LayoutModel",
            "_view_count": null,
            "_view_module": "@jupyter-widgets/base",
            "_view_module_version": "1.2.0",
            "_view_name": "LayoutView",
            "align_content": null,
            "align_items": null,
            "align_self": null,
            "border": null,
            "bottom": null,
            "display": null,
            "flex": null,
            "flex_flow": null,
            "grid_area": null,
            "grid_auto_columns": null,
            "grid_auto_flow": null,
            "grid_auto_rows": null,
            "grid_column": null,
            "grid_gap": null,
            "grid_row": null,
            "grid_template_areas": null,
            "grid_template_columns": null,
            "grid_template_rows": null,
            "height": null,
            "justify_content": null,
            "justify_items": null,
            "left": null,
            "margin": null,
            "max_height": null,
            "max_width": null,
            "min_height": null,
            "min_width": null,
            "object_fit": null,
            "object_position": null,
            "order": null,
            "overflow": null,
            "overflow_x": null,
            "overflow_y": null,
            "padding": null,
            "right": null,
            "top": null,
            "visibility": null,
            "width": null
          }
        },
        "bb978613b8c2433cb27844a0d9295058": {
          "model_module": "@jupyter-widgets/base",
          "model_name": "LayoutModel",
          "model_module_version": "1.2.0",
          "state": {
            "_model_module": "@jupyter-widgets/base",
            "_model_module_version": "1.2.0",
            "_model_name": "LayoutModel",
            "_view_count": null,
            "_view_module": "@jupyter-widgets/base",
            "_view_module_version": "1.2.0",
            "_view_name": "LayoutView",
            "align_content": null,
            "align_items": null,
            "align_self": null,
            "border": null,
            "bottom": null,
            "display": null,
            "flex": null,
            "flex_flow": null,
            "grid_area": null,
            "grid_auto_columns": null,
            "grid_auto_flow": null,
            "grid_auto_rows": null,
            "grid_column": null,
            "grid_gap": null,
            "grid_row": null,
            "grid_template_areas": null,
            "grid_template_columns": null,
            "grid_template_rows": null,
            "height": null,
            "justify_content": null,
            "justify_items": null,
            "left": null,
            "margin": null,
            "max_height": null,
            "max_width": null,
            "min_height": null,
            "min_width": null,
            "object_fit": null,
            "object_position": null,
            "order": null,
            "overflow": null,
            "overflow_x": null,
            "overflow_y": null,
            "padding": null,
            "right": null,
            "top": null,
            "visibility": null,
            "width": null
          }
        },
        "76b00f02cd29409286371216c66ff4c8": {
          "model_module": "@jupyter-widgets/controls",
          "model_name": "DescriptionStyleModel",
          "model_module_version": "1.5.0",
          "state": {
            "_model_module": "@jupyter-widgets/controls",
            "_model_module_version": "1.5.0",
            "_model_name": "DescriptionStyleModel",
            "_view_count": null,
            "_view_module": "@jupyter-widgets/base",
            "_view_module_version": "1.2.0",
            "_view_name": "StyleView",
            "description_width": ""
          }
        },
        "e034305a9acd41df988ebddc99f46068": {
          "model_module": "@jupyter-widgets/base",
          "model_name": "LayoutModel",
          "model_module_version": "1.2.0",
          "state": {
            "_model_module": "@jupyter-widgets/base",
            "_model_module_version": "1.2.0",
            "_model_name": "LayoutModel",
            "_view_count": null,
            "_view_module": "@jupyter-widgets/base",
            "_view_module_version": "1.2.0",
            "_view_name": "LayoutView",
            "align_content": null,
            "align_items": null,
            "align_self": null,
            "border": null,
            "bottom": null,
            "display": null,
            "flex": null,
            "flex_flow": null,
            "grid_area": null,
            "grid_auto_columns": null,
            "grid_auto_flow": null,
            "grid_auto_rows": null,
            "grid_column": null,
            "grid_gap": null,
            "grid_row": null,
            "grid_template_areas": null,
            "grid_template_columns": null,
            "grid_template_rows": null,
            "height": null,
            "justify_content": null,
            "justify_items": null,
            "left": null,
            "margin": null,
            "max_height": null,
            "max_width": null,
            "min_height": null,
            "min_width": null,
            "object_fit": null,
            "object_position": null,
            "order": null,
            "overflow": null,
            "overflow_x": null,
            "overflow_y": null,
            "padding": null,
            "right": null,
            "top": null,
            "visibility": null,
            "width": null
          }
        },
        "aa381b1c7ce442e29126e95299850a39": {
          "model_module": "@jupyter-widgets/controls",
          "model_name": "ProgressStyleModel",
          "model_module_version": "1.5.0",
          "state": {
            "_model_module": "@jupyter-widgets/controls",
            "_model_module_version": "1.5.0",
            "_model_name": "ProgressStyleModel",
            "_view_count": null,
            "_view_module": "@jupyter-widgets/base",
            "_view_module_version": "1.2.0",
            "_view_name": "StyleView",
            "bar_color": null,
            "description_width": ""
          }
        },
        "2ae6616535144b4b816da37b1e91f5d3": {
          "model_module": "@jupyter-widgets/base",
          "model_name": "LayoutModel",
          "model_module_version": "1.2.0",
          "state": {
            "_model_module": "@jupyter-widgets/base",
            "_model_module_version": "1.2.0",
            "_model_name": "LayoutModel",
            "_view_count": null,
            "_view_module": "@jupyter-widgets/base",
            "_view_module_version": "1.2.0",
            "_view_name": "LayoutView",
            "align_content": null,
            "align_items": null,
            "align_self": null,
            "border": null,
            "bottom": null,
            "display": null,
            "flex": null,
            "flex_flow": null,
            "grid_area": null,
            "grid_auto_columns": null,
            "grid_auto_flow": null,
            "grid_auto_rows": null,
            "grid_column": null,
            "grid_gap": null,
            "grid_row": null,
            "grid_template_areas": null,
            "grid_template_columns": null,
            "grid_template_rows": null,
            "height": null,
            "justify_content": null,
            "justify_items": null,
            "left": null,
            "margin": null,
            "max_height": null,
            "max_width": null,
            "min_height": null,
            "min_width": null,
            "object_fit": null,
            "object_position": null,
            "order": null,
            "overflow": null,
            "overflow_x": null,
            "overflow_y": null,
            "padding": null,
            "right": null,
            "top": null,
            "visibility": null,
            "width": null
          }
        },
        "40dba2e3c12f43c7bb0b9cf3dda1ead6": {
          "model_module": "@jupyter-widgets/controls",
          "model_name": "DescriptionStyleModel",
          "model_module_version": "1.5.0",
          "state": {
            "_model_module": "@jupyter-widgets/controls",
            "_model_module_version": "1.5.0",
            "_model_name": "DescriptionStyleModel",
            "_view_count": null,
            "_view_module": "@jupyter-widgets/base",
            "_view_module_version": "1.2.0",
            "_view_name": "StyleView",
            "description_width": ""
          }
        }
      }
    }
  },
  "cells": [
    {
      "cell_type": "markdown",
      "metadata": {
        "id": "view-in-github",
        "colab_type": "text"
      },
      "source": [
        "<a href=\"https://colab.research.google.com/github/ZicsX/CP-Solutions/blob/master/Untitled8.ipynb\" target=\"_parent\"><img src=\"https://colab.research.google.com/assets/colab-badge.svg\" alt=\"Open In Colab\"/></a>"
      ]
    },
    {
      "cell_type": "code",
      "source": [
        "!sudo apt install autoconf autogen automake build-essential libasound2-dev \\\n",
        "  libflac-dev libogg-dev libtool libvorbis-dev libopus-dev libmp3lame-dev \\\n",
        "  libmpg123-dev pkg-config"
      ],
      "metadata": {
        "id": "oFYlNyKJ0FRn"
      },
      "execution_count": null,
      "outputs": []
    },
    {
      "cell_type": "code",
      "source": [
        "!pip install git+https://github.com/facebookresearch/seamless_communication.git"
      ],
      "metadata": {
        "id": "kKURVJC6n153"
      },
      "execution_count": null,
      "outputs": []
    },
    {
      "cell_type": "code",
      "execution_count": null,
      "metadata": {
        "id": "Nml1sVZR_BRv"
      },
      "outputs": [],
      "source": [
        "import argparse\n",
        "import logging\n",
        "import torch\n",
        "import torchaudio\n",
        "from seamless_communication.models.inference import Translator"
      ]
    },
    {
      "cell_type": "code",
      "source": [
        "import torch\n",
        "import torchaudio\n",
        "from seamless_communication.models.inference import Translator\n",
        "\n",
        "# Initialize a Translator object with a multitask model, vocoder on the GPU.\n",
        "translator = Translator(\"seamlessM4T_medium\", \"vocoder_36langs\", torch.device(\"cuda:0\"), torch.float16)\n"
      ],
      "metadata": {
        "id": "V5E4COiqo7Ho",
        "colab": {
          "base_uri": "https://localhost:8080/"
        },
        "outputId": "6abb1247-73fb-489e-fc1a-b8627342d89c"
      },
      "execution_count": null,
      "outputs": [
        {
          "output_type": "stream",
          "name": "stderr",
          "text": [
            "Downloading the checkpoint of the model 'seamlessM4T_medium'...\n",
            "100%|██████████| 6.37G/6.37G [00:27<00:00, 246MB/s]\n",
            "Downloading the tokenizer of the model 'seamlessM4T_medium'...\n",
            "100%|██████████| 4.63M/4.63M [00:00<00:00, 153MB/s]\n",
            "Downloading the checkpoint of the model 'vocoder_36langs'...\n",
            "100%|██████████| 160M/160M [00:00<00:00, 336MB/s]\n"
          ]
        }
      ]
    },
    {
      "cell_type": "code",
      "source": [
        "def translate(text):\n",
        "  translated_text, _, _ = translator.predict(text, \"t2tt\", 'hin', src_lang='eng')\n",
        "  return translated_text"
      ],
      "metadata": {
        "id": "Zp_gqnCjpSWq"
      },
      "execution_count": null,
      "outputs": []
    },
    {
      "cell_type": "code",
      "source": [
        "input_text = \"\"\"The development of AI, ML, and a chatbot-powered interactive robot mascot (Chacha Chaudhary), along with a digital avatar, aims to strengthen the river people's connection component of Namami Gange.\"\"\""
      ],
      "metadata": {
        "id": "RzPceFlowmFU"
      },
      "execution_count": null,
      "outputs": []
    },
    {
      "cell_type": "code",
      "source": [
        "# T2TT\n",
        "translated_text = translate(input_text)\n",
        "translated_text"
      ],
      "metadata": {
        "id": "42tMpc1yut-j",
        "colab": {
          "base_uri": "https://localhost:8080/"
        },
        "outputId": "50602483-f059-4ac4-d797-0269827dffd1"
      },
      "execution_count": null,
      "outputs": [
        {
          "output_type": "execute_result",
          "data": {
            "text/plain": [
              "CString('एआई, एमएल, और एक चैटबोट संचालित इंटरैक्टिव रोबोट शुभंकर (चाचा चौधरी) का विकास, एक डिजिटल अवतार के साथ, नाममी गंगे के नदी के लोगों के कनेक्शन घटक को मजबूत करने का उद्देश्य है।')"
            ]
          },
          "metadata": {},
          "execution_count": 11
        }
      ]
    },
    {
      "cell_type": "code",
      "source": [
        "from datasets import load_dataset\n",
        "\n",
        "# Load the dataset and use streaming\n",
        "dataset = load_dataset('stanford-crfm/DSIR-filtered-pile-50M', split='train', streaming=True)\n",
        "i = 0\n",
        "for datapoint in dataset:\n",
        "  if i>=5: break\n",
        "  i+=1\n",
        "  content = datapoint['contents']\n",
        "  try:\n",
        "    translated_text = translate(content)\n",
        "    print(\"Original text:\", content)\n",
        "    print(\"Translated text:\", translated_text)\n",
        "    print(\"-------------------------------------------------------\")\n",
        "  except Exception as e:\n",
        "    print(f\"An error occurred while translating: {e}\")"
      ],
      "metadata": {
        "id": "wodVTJKzpeCu",
        "colab": {
          "base_uri": "https://localhost:8080/",
          "height": 1000,
          "referenced_widgets": [
            "1a3659a5f07e4acb9dc179fe1272b16c",
            "a3a95c8f46064e83861dd43de4eca0aa",
            "ae23701714b643acb7129628176a8a6f",
            "320f46f2983243ecbca5f56e6e34fd2a",
            "cb32acc16b8f4802bfc28b5f951e13ca",
            "69aacc94d3da454884f3322d72e38f3d",
            "ab75ccd16227449a8f2dc8c166a11c53",
            "218bf56e9930447e974a7e9fa3286204",
            "2ae86717409843e9b6c1b7511a75d3c7",
            "35c6817ead384d9baf91dd629495a3b9",
            "4c4acc609e6e4735a1be485cdb072c0a"
          ]
        },
        "outputId": "925c064a-d46d-4d5f-98fb-ec444c920400"
      },
      "execution_count": null,
      "outputs": [
        {
          "output_type": "display_data",
          "data": {
            "text/plain": [
              "Downloading readme:   0%|          | 0.00/4.56k [00:00<?, ?B/s]"
            ],
            "application/vnd.jupyter.widget-view+json": {
              "version_major": 2,
              "version_minor": 0,
              "model_id": "1a3659a5f07e4acb9dc179fe1272b16c"
            }
          },
          "metadata": {}
        },
        {
          "output_type": "stream",
          "name": "stdout",
          "text": [
            "Original text: Alsatian Cheese Tart\n",
            "\n",
            "French Chef Michel Bernard Platz, co-owner with Jose Sanabria of Out of Flower cooking school and specialty catering in Dallas, recommends traditional Alsatian fare. In Alsae, the Yuletide dinner starts with an onion and leek tart, followed by a hearty one-dish creation called Baeckaoffa served with walnut bread. For dessert, try an Alsatian Cheese Tart.\n",
            "\n",
            "ADVERTISEMENT\n",
            "\n",
            "ADVERTISEMENT\n",
            "\n",
            "ADVERTISEMENT\n",
            "\n",
            "ABOUT TEXAS HIGHWAYS\n",
            "\n",
            "Published monthly by the Texas Department of Transportation, Texas Highways, the official travel magazine of Texas, encourages travel to and within the Lone Star State and tells the Texas story to readers around the world.search for them.\"\n",
            "\n",
            "Viktor Troshenkov of the Russian Academy of Sciences told the Tass news agency that the fireball could be part of a prolific meteor shower known as the Leonids, which peaks at this time of year. He said he felt Thursday's fireball likely wasn't the sole meteorite but others maybe were not seen due to thick clouds elsewhere.\n",
            "\n",
            "Troshenkov told Tass that meteor showers can be even stronger. The Leonids reach their maximum once every 33 years -- and the last time that happened was in 1998, he said. Amateur astronomers in the Arctic then saw about 1,000 meteors, 40 meteorites and one fireball in just one night.\n",
            "\n",
            "In 2013, a meteorite streaked across the Russian sky and exploded over the Ural Mountains with the power of an atomic\n",
            "Translated text: डलास में आउट ऑफ फ्लावर कुकिंग स्कूल और स्पेशलिटी कैटरिंग के जोस सानाब्रिया के सह-मालिक मिशेल बर्नार्ड प्लाट्ज़, अलसाई में पारंपरिक अलसाई भोजन की सिफारिश करते हैं। अलसाई में, युलेटाइड रात्रिभोज 1998 में एक प्याज और लीक टार्ट के साथ शुरू होता है, इसके बाद एक हार्दिक एक-डिश रचना है जिसे बेइकाओफफा कहा जाता है जो अखरोट रोटी के साथ परोषित किया जाता है। मिठाई के लिए, एक अलसाई टार्ट टार्ट की कोशिश करें। एड एडेस्ट्रोन एडेस्ट एडेस्ट एडिस्ट एडिस्ट एडिस्ट एडिस्ट एडिस्ट एडिस्ट एडिस्ट एडिस्ट एडिस्ट एडिस्ट एडिस्ट एडिस्ट एडिस्ट एडिस्ट एडिस्ट एडिस्ट एडिस्ट एडिस्ट एडिस्ट एडिस्ट एडिस्ट एडिस्ट एडिस्ट एडिस्ट एडिस्ट एडिस्ट एडिस्ट एडिस्ट एडिस्ट एडिस्ट एडिस्ट एडिस्ट एडिस्ट एडिस्ट एडिस्ट एडिस्ट एडिस्ट एडिस्ट एडिस्ट एडिस्ट एडिस्ट एडिस्ट एडिस्ट एडिस्ट एडिस्ट एडिस्ट एडिस्ट एडिस्ट एडिस्ट एडिस्ट एडिस्ट एडिस्ट एडिस्ट एडिस्ट एडिस्ट एडिस्ट एडिस्ट एडिस्ट एडिस्ट एडिस्ट एडिस्ट एडिस्ट एडिस्ट एडिस्ट एडिस्ट एडिस्ट एडिस्ट एडिस्ट एडिस्ट एडिस्ट एडिस्ट एडिस्ट एडिस्ट एडिस्ट एडिस्ट एडिस्ट एडिस्ट एडिस्ट एडिस्ट एडिस्ट एडिस्ट एडिस्ट एडिस्ट एडिस्ट एडिस्ट एडिस्ट एडिस्ट एडिस्ट एडिस्ट एडिस्ट एडिस्ट एडिस्ट एडिस्ट एडिस्ट एडिस्ट एडिस्ट एडिस्ट एडिस्ट एडिस्ट एडिस्ट एडिस्ट एडिस्ट एडिस्ट एडिस्ट एडिस्ट एडिस्ट एडिस्ट एडिस्ट एडिस्ट एडिस्ट एडिस्ट एडिस्ट एडिस्ट एडिस्ट एडिस्ट एडिस्ट एडिस्ट एडिस्ट एडिस्ट एडिस्ट एडिस्ट एडिस्ट एडिस्ट एडिस्ट एडिस्ट एडिस्ट एडिस्ट एडिस्ट एडिस्ट एडिस्ट ए।\n",
            "-------------------------------------------------------\n",
            "Original text: depicted by four young winged men in Roman-like dresses, driving vessels and blowing air into horns. The central upper square is an old man representing the Year, with the Wheel of Time, while at the upper corners are the personifications of the Rivers of Paradise. The other six upper squares depict the Four Seasons, as well as Samson and Abel (or Cain).\n",
            "\n",
            "The two lower corners show the personifications of the Sun (left, symbolizing Sunday) and the Moon (right, much deteriorated, symbolizing Monday), while the  side outer squares represent the months (only eight of which survive). At the bottom are incomplete scenes of the discovery of Holy Cross.\n",
            "\n",
            "Sources\n",
            "\n",
            "External links\n",
            "\n",
            "Official cathedral's website \n",
            "Page with details of the figures \n",
            "Page with links to websites and the newest literature  (2012)Publication Date:\n",
            "\n",
            "Discipline:\n",
            "\n",
            "Source:\n",
            "\n",
            "Product number:\n",
            "\n",
            "Length:\n",
            "\n",
            "Also Available in:\n",
            "\n",
            "description\n",
            "\n",
            "In October 2004 Fernández Pujals, founder of Telepizza, an international home delivery pizza business, bought 24.9% of Jazztel (€90 million), a telecom company. At the time, Jazztel that was near bankruptcy and needed a capital injection to finish the year. Over the next ten years, Fernández Pujals led the restructuring of Jazztel's debt, reached an agreement with the former monopoly Telefónica, set up internal call centers, and transformed Jazztel into the fastest growing broadband operator in Spain. The case describes how Fernández Pujals designed and managed the board and led Jazztel towards profitable growth.\n",
            "\n",
            "learning objective:\n",
            "\n",
            "The case provides an example of board dynamics and corporate governance of a Spanish telecom company with a controlling shareholder serving as Chairman of the Board of Directors.\n",
            "\n",
            "Publication Date:\n",
            "\n",
            "Discipline:\n",
            "\n",
            "Source:\n",
            "\n",
            "Product number:\n",
            "\n",
            "Length:\n",
            "\n",
            "Also\n",
            "Translated text: चार युवा पंखों वाले पुरुषों द्वारा रोमन-जैसे पोशाक, जहाजों को चलाने और सींगों में हवा फूंकने के लिए चित्रित किया गया है। केंद्रीय ऊपरी वर्ग एक बूढ़ा आदमी है जो वर्ष का प्रतिनिधित्व करता है, समय के पहिया के साथ, जबकि ऊपरी कोनों में स्वर्ग की नदियों के व्यक्तित्व हैं। अन्य छह ऊपरी वर्गों में चार ऋतुओं का चित्रण किया गया है, साथ ही निर्देशकः सैमसन और एबेल (याः पब्लिकः पब्लिकः पब्लिकः पब्लिकः पब्लिकः पब्लिकः पब्लिकः पब्लिकः पब्लिक।\n",
            "-------------------------------------------------------\n",
            "Original text: Available in:\n",
            "\n",
            "description\n",
            "\n",
            "On Tuesday March 15, 2011, all 1,200 global Partners of McKinsey & Co. gathered at the Gaylord National Hotel & Convention Center near Washington, DC for their annual Partners' conference. The atmosphere was tense as Partners, in addition to their normal agenda, discussed the Galleon Group insider-trading trial and the recent allegations against the Firm's former Managing Director, Rajat Gupta. Three months earlier Senior Partner, Anil Kumar, pled guilty to providing confidential information about McKinsey clients he served to Galleon Group founder Raj Rajaratnam. The McKinsey Partners were shocked and dismayed by the actions of Kumar, as well as the recent allegations against Gupta and were closely monitoring the situation. Could a former Managing Director of their Firm have conspired to enable insider trading? And if so,what did that mean for the future of the Firm?\n",
            "\n",
            "Publication Date:\n",
            "\n",
            "Discipline:\n",
            "\n",
            "Source:\n",
            "\n",
            "Product number:\n",
            "\n",
            "Length:\n",
            "\n",
            "Also Available in:\n",
            "\n",
            "description\n",
            "\n",
            "On Tuesday March 15, 2011, all 1,200 global Partners of McKinsey & Co. gathered at the Gaylord National Hotel & Convention Center near Washington, DC for their annual Partners' conference. The atmosphere was tense as Partners, in addition to their normal agenda, discussed the Galleon Group insider-trading trial and the recent allegations against the Firm's former Managing Director, Rajat Gupta. Three months earlier Senior Partner, Anil Kumar, plead guilty to providing confidential information about McKinsey clients he served to Galleon Group founder Raj Rajaratnam. The McKinsey Partners were shocked and dismayed by the actions of Kumar, as well as the recent allegations against Gupta and were closely monitoring the situation. Could a former Managing Director\n",
            "Translated text: मंगलवार, 15 मार्च, 2011 को मैककिन्सी और कंपनी के सभी 1,200 वैश्विक भागीदार अपने वार्षिक भागीदारों की स्थिति के लिए गैलार्ड नेशनल होटल एंड कन्वेंशन सेंटर, डीसी के पास इकट्ठे हुए थे। साझेदारों ने अपने सामान्य एजेंडा के अलावा गैलियन ग्रुप के इंसाइडर-ट्रेडिंग मुकदमे और राज राजिन के निदेशक के पूर्व वरिष्ठ प्रबंध निदेशक, राजिन के खिलाफ हाल के आरोपों पर चर्चा की। तीन महीने पहले, अनिल कुमार ने राष्ट्रीय समूह के बारे में गोपनीय जानकारी प्रदान करने के लिए दोषी ठहराया। उन्होंने गैलियन समूह के पूर्व संस्थापक राजिन के खिलाफ काम किया। मैककिन्सी के साथ-अपटन के साथ साथ-साथ उनके हाल के आरोपों के बारे में।\n",
            "-------------------------------------------------------\n",
            "Original text: Date:\n",
            "\n",
            "Discipline:\n",
            "\n",
            "Source:\n",
            "\n",
            "Product number:\n",
            "\n",
            "Length:\n",
            "\n",
            "Also Available in:\n",
            "\n",
            "description\n",
            "\n",
            "In December 1997 United Rentals (URI) went public on the NYSE. Ten years later, during the peak of the economic meltdown, the company's performance was in decline. United Rentals had experienced its share of problems in the prior years and was still struggling to emerge from this turmoil.\n",
            "\n",
            "In the spring of 2008, the recession had decimated the company's core business, construction equipment rental. The economic downturn resulted in a significant decrease in North American construction and industrial activities and had adversely affected the company's revenues and operating result. The stock of the company quickly fell from the mid-$30 range in late 2007 to $3 in March 2009. In addition, two of the company's former chief financial officers had been charged with securities fraud and otherviolations, by both the U.S. Attorney's office and the SEC. The Board was faced with the resignation of the founder and chairman, management succession issues, the failed merger with Cerberus, and the lawsuit in Delaware. The Board was responsible for overseeing the change in a number of senior management and board positions which became increasingly difficult due to the turmoil and poor performance of the company. Recruiting and retaining talent in senior management and the board was central to the success of the company, which relied on their people for strong performance. In addition the company's total indebtedness was approximately $3.3 billion, including $146 million of subordinated convertible debenture. The company's substantial indebtedness had the potential to have adverse consequences in a number of ways, including: increase their\n",
            "Translated text: दिनांक: अनुशासन: स्रोत: उत्पाद संख्या: लंबाई: विवरण में भी उपलब्धः दिसंबर 1997 में यूनाइटेड रेंटल्स (यूआरआई) न्यू यॉर्क एक्सईसी में पब्लिक हो गया। दस साल बाद, आर्थिक पतन के चरम पर, कंपनी का प्रदर्शन गिरावट में था। यूनाइटेड रेंटल्स ने पिछले वर्षों में समस्याओं का अपना हिस्सा अनुभव किया था और अभी भी इस अशांति से बाहर निकलने के लिए संघर्ष कर रहा था। 2008 के वसंत ऋतु में, मंदी ने कंपनी के मुख्य व्यवसाय, निर्माण उपकरण के किराए पर सार्वजनिक किया था। आर्थिक गिरावट के परिणामस्वरूप उत्तरी अमेरिकी निर्माण और औद्योगिक गतिविधियों में गिरावट आई थी और कंपनी की राजस्व और परिचालन स्थितियों को बुरी तरह प्रभावित किया था। कंपनी का स्टॉक जल्दी से लगभग $ 30 डॉलर की सीमा में विफल हो गया था। इसके अलावा, कंपनी के संभावित सफलता के बाद में, कंपनी की सफलता के दौरान, दो वित्तीय प्रबंधन अधिकारियों के साथ सफल होने के लिए जिम्मेदार थे।\n",
            "-------------------------------------------------------\n",
            "Original text: other meetings she had chaired. Stockholders were about to vote on a transaction that was perhaps the ultimate fulfillment of the founders' original vision. She was reminded of the company's founding just 15 years earlier and its meteoric growth. With a considerable sense of achievement and satisfaction, she reflected on her tenure as board chair commencing five years ago. Elected to the board in 2006 and then unanimously selected by her peers as Chairman in June 2008, Britell led the board through the aftermath of a tumultuous period that included senior management and board changes, a SEC investigation, financial restatements, the jilting of the company by Cerberus Capital Management in a transaction to acquire URI, and the deepest recession to hit the global economy since the Great Depression.At the meeting, stockholders would be asked to consider approval of a merger agreement between URI, the largest equipment rental company in the world, with RSC, the second largest equipment rental company in the world and URI's largest competitor. The meeting would mark the triumph of a new governance model and company strategy whose development and implementation Britell and CEO Michael Kneeland had led. As Britell reflected on the hard won gains, she also looked forward to the challenges and opportunities that lay ahead as the company managed the integration of RSC's operations with URI and the integration of three new board members from the acquired company. She also reflected on how governance and strategy could continue to evolve as the company planned for the next five years.\n",
            "\n",
            "learning\n",
            "Translated text: अन्य बैठकों में उनकी अध्यक्षता की गई थी। शेयरधारकों ने एक लेन-देन पर मतदान करने के बारे में सोचा था जो शायद संस्थापकों के मूल दर्शन की अंतिम पूर्णता थी। उन्हें कंपनी की स्थापना की याद दिलाई गई थी केवल 15 साल पहले और इसकी उल्कापिंड वृद्धि। उपलब्धि और संतुष्टि की एक काफी भावना के साथ, उन्होंने 2008 से शुरू होने वाले SEC के बोर्ड अध्यक्ष के रूप में अपने कार्यकाल पर विचार किया, पांच साल पहले। 2006 में बोर्ड में निर्वाचित और फिर सीईओ के रूप में सर्वसम्मति से अध्यक्ष के रूप में उनकी योजना बनाई गई थी।\n",
            "-------------------------------------------------------\n"
          ]
        }
      ]
    },
    {
      "cell_type": "code",
      "source": [
        "!pip install datasets"
      ],
      "metadata": {
        "id": "aZAKYBs5u7kU"
      },
      "execution_count": null,
      "outputs": []
    },
    {
      "cell_type": "code",
      "source": [
        "import datasets\n",
        "\n",
        "dataset = datasets.load_dataset(\"monology/pile\", split='train', streaming=True)"
      ],
      "metadata": {
        "id": "q7l_Xc6rxXMT",
        "colab": {
          "base_uri": "https://localhost:8080/",
          "height": 81,
          "referenced_widgets": [
            "537e2eab90d349408566cff935b997b0",
            "49c9c5cd5edf47698fac37c33479134f",
            "f2e29db0101b44a996cab54362aaefe7",
            "71e51078725943b4b37841c84415fb2e",
            "2972f3c7812a405db72091535ec6161b",
            "7a722b229a60470ea78df89c485f369c",
            "015c789038d540868ee4c28b9dfe3af8",
            "4b9ff851e2e043c1816554cde4561e3a",
            "d6c40d87378646138663f1e4fd836c96",
            "dd71decc3e1b488697accfda7c6b85a9",
            "dd65173bd32341e6ad2fb5b26d4a4605",
            "fa008d81fb0344eea4f1bcb12333b031",
            "f29089531ddc45e49ecce6cc0b05d217",
            "be17b907e026435e996f6ef269a54c9f",
            "ff0f3bf77ce14eadb4981f7f1950c5ac",
            "567622e641364323ba4c88143f16ecec",
            "d8baf792f5d748eaa32b732bcc82c474",
            "f8b663a716de45d4be8a9d91c9f24d17",
            "352a61014aca46e4a853eef0c921db37",
            "c06b8c01ad09495383320f76fac7e023",
            "e1ca68a329e54e20b61210ef2f18ab43",
            "6dd98da998644b01be93631116ac460f"
          ]
        },
        "outputId": "66d3dcc5-0b2d-4f3a-febc-68d463ce4c6d"
      },
      "execution_count": null,
      "outputs": [
        {
          "output_type": "display_data",
          "data": {
            "text/plain": [
              "Downloading readme:   0%|          | 0.00/301 [00:00<?, ?B/s]"
            ],
            "application/vnd.jupyter.widget-view+json": {
              "version_major": 2,
              "version_minor": 0,
              "model_id": "537e2eab90d349408566cff935b997b0"
            }
          },
          "metadata": {}
        },
        {
          "output_type": "display_data",
          "data": {
            "text/plain": [
              "Resolving data files:   0%|          | 0/30 [00:00<?, ?it/s]"
            ],
            "application/vnd.jupyter.widget-view+json": {
              "version_major": 2,
              "version_minor": 0,
              "model_id": "fa008d81fb0344eea4f1bcb12333b031"
            }
          },
          "metadata": {}
        }
      ]
    },
    {
      "cell_type": "code",
      "source": [
        "import datasets\n",
        "\n",
        "dataset = datasets.load_dataset(\"stanford-crfm/DSIR-filtered-pile-50M\",split='train', streaming=True)"
      ],
      "metadata": {
        "id": "FUY0HPnMjKmT"
      },
      "execution_count": null,
      "outputs": []
    },
    {
      "cell_type": "code",
      "source": [
        "print(next(iter(dataset)))"
      ],
      "metadata": {
        "colab": {
          "base_uri": "https://localhost:8080/"
        },
        "id": "JkwlrVrX0F-n",
        "outputId": "3ee42adc-54eb-4083-e450-51460c52fd10"
      },
      "execution_count": null,
      "outputs": [
        {
          "output_type": "stream",
          "name": "stdout",
          "text": [
            "{'contents': 'Alsatian Cheese Tart\\n\\nFrench Chef Michel Bernard Platz, co-owner with Jose Sanabria of Out of Flower cooking school and specialty catering in Dallas, recommends traditional Alsatian fare. In Alsae, the Yuletide dinner starts with an onion and leek tart, followed by a hearty one-dish creation called Baeckaoffa served with walnut bread. For dessert, try an Alsatian Cheese Tart.\\n\\nADVERTISEMENT\\n\\nADVERTISEMENT\\n\\nADVERTISEMENT\\n\\nABOUT TEXAS HIGHWAYS\\n\\nPublished monthly by the Texas Department of Transportation, Texas Highways, the official travel magazine of Texas, encourages travel to and within the Lone Star State and tells the Texas story to readers around the world.search for them.\"\\n\\nViktor Troshenkov of the Russian Academy of Sciences told the Tass news agency that the fireball could be part of a prolific meteor shower known as the Leonids, which peaks at this time of year. He said he felt Thursday\\'s fireball likely wasn\\'t the sole meteorite but others maybe were not seen due to thick clouds elsewhere.\\n\\nTroshenkov told Tass that meteor showers can be even stronger. The Leonids reach their maximum once every 33 years -- and the last time that happened was in 1998, he said. Amateur astronomers in the Arctic then saw about 1,000 meteors, 40 meteorites and one fireball in just one night.\\n\\nIn 2013, a meteorite streaked across the Russian sky and exploded over the Ural Mountains with the power of an atomic', 'metadata': {'pile_set_name': ['Pile-CC', 'OpenWebText2']}, 'id': 21}\n"
          ]
        }
      ]
    },
    {
      "cell_type": "code",
      "source": [
        "i = 0\n",
        "for e in dataset['train']:\n",
        "  if i == 5:\n",
        "    break\n",
        "  i+=1\n",
        "  print(e)"
      ],
      "metadata": {
        "colab": {
          "base_uri": "https://localhost:8080/"
        },
        "id": "LeJxnDfL4azC",
        "outputId": "d0a441cf-bef5-409e-bf2a-6fb87bad55fc"
      },
      "execution_count": null,
      "outputs": [
        {
          "output_type": "stream",
          "name": "stdout",
          "text": [
            "{'text': 'this guy  cracks me up \\n---------------------- Forwarded by Drew Fossum/ET&S/Enron on 05/19/2000 \\n09:09 AM ---------------------------\\n\\n05/19/2000 08:29 AM\\nLouis Soldano\\nLouis Soldano\\nLouis Soldano\\n05/19/2000 08:29 AM\\n05/19/2000 08:29 AM\\nTo: Drew Fossum/ET&S/Enron@ENRON\\ncc:  \\n\\nSubject: Re: Emma Caplan  \\n\\nWell, if she\\'s \"very bright, personable, and enthusiastic\" she certainly \\nwon\\'t fit in with us.   \\n\\nI\\'ll follow up with mike and shelly on the person we were thiniking of \\nsplitting for the summer - that may already be a done deal, if not it may \\nmake sense to do something more permanent but we will need to look at \\nbudget...\\n\\ni could probably use some part time help with Bret Reich exiled to Phase IV \\nbut i should have a licensed lawyer for that.\\n\\n\\n\\n\\n   \\n\\t\\n\\t\\n\\tFrom:  Drew Fossum                           05/18/2000 05:50 PM\\n\\t\\n\\nTo: Michael Moran/ET&S/Enron@ENRON, Dorothy McCoppin/FGT/Enron@ENRON, Louis \\nSoldano/ET&S/Enron@ENRON, Britt Davis/Corp/Enron@ENRON, Shelley \\nCorman/ET&S/Enron@ENRON\\ncc: Robert Jones/Corp/Enron@ENRON, Emily Sellers/ET&S/Enron@ENRON \\n\\nSubject: Emma Caplan\\n\\nAt the suggestion of Robert Jones (you remember him--one of the growing \\nlegion of ex-GPG HR representatives), I interviewed a lady named Emma Caplan \\nyesterday.  She is the wife of a guy that Enron Networks brought over to \\nHouston from London.  She is a \"Solicitor\" in the English legal system, and \\ngot her law degree at the University of Wales.  She has not taken an American \\nbar exam but may be able to take DC or New York.  For some reason related to \\npractice of foreign lawyers in TX, she can\\'t take the TX bar until she has \\ngotten a US law degree.  This person is very bright, personable, and \\nenthusiastic.  She is extremely interested in working for Enron, either as a \\nlawyer once she gets her license squared away, or in a paralegal or analyst \\nposition until then. I left a copy of her resume with Emily, and I\\'d ask that \\nshe please forward it to each of you.  If any of you have need for such an \\nindividual or have ideas she should pursue within Enron (or outside Enron), \\nplease call Robert or myself.  Thanks.  DF', 'meta': {'pile_set_name': 'Enron Emails'}, 'domain': 'Enron Emails'}\n",
            "{'text': 'i will just meet you there', 'meta': {'pile_set_name': 'Enron Emails'}, 'domain': 'Enron Emails'}\n",
            "{'text': 'NYMEX Membership Services\\nMay 9, 2001\\nNotice # MS-35\\n\\nNOTICE OF INTENTION TO SWITCH QUALIFYING CLEARING MEMBER\\n\\n Please be advised that effective with the close of business, May 9, 2001,\\nPioneer Futures, Inc., will no longer guarantee the following member(s):\\n\\nRon Benaharon (WAVE-3549)\\n\\n However, the above mentioned will remain a member guaranteed by MBF Clearing \\nCorp.  In connection therewith, notification of any claims against the \\naforementioned individuals arising out of transactions executed on the \\nExchange up to the close of business May 9, 2001, must be submitted to the \\nCorporate Secretary\\x01,s Office within (10) ten days.\\n\\n Members and Member Firms have (10) days from the date of this notice to \\nadvise the Corporate Secretary\\x01,s Office of any claims in accordance with Rule \\n2.51.\\n\\n\\nTERMINATION OF MEMBER FIRM PRIVILEGES\\n\\n Please be advised that effective with the close of business, May 8, 2001, \\nGPZ  Trading LLC., has voluntarily terminated its Member Firm privileges.\\n\\n Inquiries regarding the above should be directed to the Member Services \\nDepartment at (212) 299-2379.\\n\\n\\n\\n__________________________________________________\\nPlease click on the link below to indicate you have received this\\nemail.\\n\\n\"http://208.206.41.61/email/email_log.cfm?useremail=sara.shackleton@enron.com&\\nrefdoc=(MS-35)\"\\n\\nNote: If you click on the above line and nothing happens, please copy\\nthe text between the quotes, open your internet browser,\\npaste it into the web site address and press Return.', 'meta': {'pile_set_name': 'Enron Emails'}, 'domain': 'Enron Emails'}\n",
            "{'text': \"Wow! I bet you're sick of explaining that one to all the newcomers. That's \\nabout what I figured was going on - an overlap of names used by different \\nmembers of the Enron family. \\n\\nThanks so much for taking the time to respond and explain. And thanks for the \\nwelcome!\\n\\nKate\", 'meta': {'pile_set_name': 'Enron Emails'}, 'domain': 'Enron Emails'}\n",
            "{'text': 'We are parking 4,875 dth/day for the 27th-30th on CNG (deal 281565) and we \\nare taking out 478 dth/day for the month of June (deal 281565).  ENA is \\npaying CNG $.04 times the total volume parked.\\n\\nAngie, these volumes may go up.  I think Tenn is still trying to balance the \\nweekend and they are a little long.  Clarissa will let you know.', 'meta': {'pile_set_name': 'Enron Emails'}, 'domain': 'Enron Emails'}\n"
          ]
        }
      ]
    },
    {
      "cell_type": "code",
      "source": [
        "import datasets\n",
        "\n",
        "dataset = datasets.load_dataset(\"monology/pile\", split='train')"
      ],
      "metadata": {
        "id": "uL5nMOHKRgSm"
      },
      "execution_count": null,
      "outputs": []
    },
    {
      "cell_type": "code",
      "source": [
        "dataset.to_parquet(\"directory\")"
      ],
      "metadata": {
        "id": "YCcjk1JW5Hkb"
      },
      "execution_count": null,
      "outputs": []
    },
    {
      "cell_type": "code",
      "source": [
        "subset_of_interest = \"Enron Emails\""
      ],
      "metadata": {
        "id": "7QI2knZ2WGx4"
      },
      "execution_count": null,
      "outputs": []
    },
    {
      "cell_type": "code",
      "source": [
        "from datasets import load_dataset\n",
        "dataset = load_dataset(\n",
        "  \"ArmelR/the-pile-splitted\",\n",
        "  subset_of_interest,\n",
        "  num_proc=8\n",
        ")\n"
      ],
      "metadata": {
        "id": "4uIoyzn9Rc5H"
      },
      "execution_count": null,
      "outputs": []
    },
    {
      "cell_type": "code",
      "source": [
        "dataset.items()"
      ],
      "metadata": {
        "colab": {
          "base_uri": "https://localhost:8080/"
        },
        "id": "R3wOORQyXrq-",
        "outputId": "9a2c1f70-c8a1-4720-8f64-c92eb1c6a805"
      },
      "execution_count": null,
      "outputs": [
        {
          "output_type": "execute_result",
          "data": {
            "text/plain": [
              "dict_items([('test', Dataset({\n",
              "    features: ['text', 'meta', 'domain'],\n",
              "    num_rows: 27843\n",
              "})), ('train', Dataset({\n",
              "    features: ['text', 'meta', 'domain'],\n",
              "    num_rows: 900246\n",
              "}))])"
            ]
          },
          "metadata": {},
          "execution_count": 16
        }
      ]
    },
    {
      "cell_type": "code",
      "source": [
        "dataset['train'].to_parquet(\"./directory\",batch_size=1000)"
      ],
      "metadata": {
        "colab": {
          "base_uri": "https://localhost:8080/",
          "height": 66,
          "referenced_widgets": [
            "86dc7a8753e74980bd4af58cf7e63899",
            "599d0e1ce99e4abf88f5a46698fbae77",
            "eb464163d2944c368f1fcf8a1be8416e",
            "aa8d7aab03824481a31d7433086599ae",
            "14c03080fd084cc4ba13235246a7bd23",
            "bb978613b8c2433cb27844a0d9295058",
            "76b00f02cd29409286371216c66ff4c8",
            "e034305a9acd41df988ebddc99f46068",
            "aa381b1c7ce442e29126e95299850a39",
            "2ae6616535144b4b816da37b1e91f5d3",
            "40dba2e3c12f43c7bb0b9cf3dda1ead6"
          ]
        },
        "id": "2BgyJfKWWQQU",
        "outputId": "4b5ebaca-5270-4bc7-caaa-31cb0c3c8e2e"
      },
      "execution_count": null,
      "outputs": [
        {
          "output_type": "display_data",
          "data": {
            "text/plain": [
              "Creating parquet from Arrow format:   0%|          | 0/901 [00:00<?, ?ba/s]"
            ],
            "application/vnd.jupyter.widget-view+json": {
              "version_major": 2,
              "version_minor": 0,
              "model_id": "86dc7a8753e74980bd4af58cf7e63899"
            }
          },
          "metadata": {}
        },
        {
          "output_type": "execute_result",
          "data": {
            "text/plain": [
              "1680866499"
            ]
          },
          "metadata": {},
          "execution_count": 15
        }
      ]
    },
    {
      "cell_type": "code",
      "source": [
        "total_rows = len(dataset['train'])\n",
        "\n",
        "# Calculate the total number of bytes in the loaded dataset\n",
        "total_size_bytes = dataset['train'].data.nbytes\n",
        "total_rows,total_size_bytes"
      ],
      "metadata": {
        "colab": {
          "base_uri": "https://localhost:8080/"
        },
        "id": "ZlaN4W6RXnzv",
        "outputId": "bb46ae49-545e-4951-8e43-ddcca15818d1"
      },
      "execution_count": null,
      "outputs": [
        {
          "output_type": "execute_result",
          "data": {
            "text/plain": [
              "(900246, 1680866499)"
            ]
          },
          "metadata": {},
          "execution_count": 21
        }
      ]
    },
    {
      "cell_type": "code",
      "source": [
        "import os\n",
        "os.makedirs(\"parquet_files\", exist_ok=True)\n"
      ],
      "metadata": {
        "id": "i4eRljemdZZi"
      },
      "execution_count": null,
      "outputs": []
    },
    {
      "cell_type": "code",
      "source": [
        "# Number of bytes per file (1GB)\n",
        "size_per_file = 1_000_000_000\n",
        "\n",
        "# Calculate the number of rows per file\n",
        "rows_per_file = int((total_rows / total_size_bytes) * size_per_file)\n",
        "rows_per_file"
      ],
      "metadata": {
        "colab": {
          "base_uri": "https://localhost:8080/"
        },
        "id": "UysOoQlzdfu9",
        "outputId": "ad94e861-18e3-4283-dde7-7537d43f434d"
      },
      "execution_count": null,
      "outputs": [
        {
          "output_type": "execute_result",
          "data": {
            "text/plain": [
              "535584"
            ]
          },
          "metadata": {},
          "execution_count": 25
        }
      ]
    },
    {
      "cell_type": "code",
      "source": [
        "from datasets import load_dataset\n",
        "import pyarrow.parquet as pq\n",
        "import pyarrow as pa\n",
        "import os\n"
      ],
      "metadata": {
        "id": "ZUnryUTae5hb"
      },
      "execution_count": null,
      "outputs": []
    },
    {
      "cell_type": "code",
      "source": [
        "# Create a directory to store the Parquet files\n",
        "os.makedirs(\"parquet_files\", exist_ok=True)\n",
        "\n",
        "# Calculate the total number of rows\n",
        "total_rows = len(dataset['train'])\n",
        "\n",
        "# Calculate the total number of bytes in the loaded dataset\n",
        "total_size_bytes = dataset['train'].data.nbytes\n",
        "\n",
        "# Number of bytes per file (1GB)\n",
        "size_per_file = 1_000_000_000\n",
        "\n",
        "# Calculate the number of rows per file\n",
        "rows_per_file = int((total_rows / total_size_bytes) * size_per_file)\n",
        "\n",
        "# Exporting to multiple Parquet files\n",
        "start_idx = 0\n",
        "file_idx = 0\n",
        "while start_idx < total_rows:\n",
        "    end_idx = min(start_idx + rows_per_file, total_rows)\n",
        "\n",
        "    # Select the subset of data for the current file\n",
        "    subset_data = dataset['train'].select(range(start_idx, end_idx))\n",
        "\n",
        "    # Convert the dataset to a Table\n",
        "    subset_table = pa.Table.from_pandas(subset_data.data.to_pandas())\n",
        "\n",
        "    # Save to Parquet\n",
        "    pq.write_table(subset_table, f\"parquet_files/dataset_{file_idx}.parquet\")\n",
        "\n",
        "    # Update indices\n",
        "    start_idx = end_idx\n",
        "    file_idx += 1\n"
      ],
      "metadata": {
        "id": "EnsHWGq3dpF0"
      },
      "execution_count": null,
      "outputs": []
    },
    {
      "cell_type": "code",
      "source": [],
      "metadata": {
        "id": "enA5Sg_KeWhz"
      },
      "execution_count": null,
      "outputs": []
    }
  ]
}